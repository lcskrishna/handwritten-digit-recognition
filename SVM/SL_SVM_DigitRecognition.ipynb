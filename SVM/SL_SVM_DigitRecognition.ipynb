{
 "cells": [
  {
   "cell_type": "code",
   "execution_count": 1,
   "metadata": {
    "collapsed": true
   },
   "outputs": [],
   "source": [
    "### This file contains the implementation of the Support Vector Machine Classification on the \n",
    "### Digit Recongition Dataset.\n",
    "### Below are the libraries used for the implementation.\n",
    "### @Author: Chaitanya Sri Krishna Lolla.\n",
    "from sklearn import svm\n",
    "import csv\n",
    "import numpy as np"
   ]
  },
  {
   "cell_type": "code",
   "execution_count": 2,
   "metadata": {
    "collapsed": false
   },
   "outputs": [
    {
     "name": "stdout",
     "output_type": "stream",
     "text": [
      "3823\n",
      "3823\n",
      "Done with Loading the Training Data.\n"
     ]
    }
   ],
   "source": [
    "## TLoading the training Dataset into X and Y values.\n",
    "X= []\n",
    "Y= []\n",
    "with open('optdigits_raining.csv') as trainingFile:\n",
    "    reader = csv.reader(trainingFile);\n",
    "    \n",
    "    for row in reader:\n",
    "        X.append(row[:64])\n",
    "        Y.append(row[64])\n",
    "        \n",
    "print(len(X))\n",
    "print(len(Y))  \n",
    "print(\"Done with Loading the Training Data.\")"
   ]
  },
  {
   "cell_type": "code",
   "execution_count": 3,
   "metadata": {
    "collapsed": false
   },
   "outputs": [
    {
     "name": "stdout",
     "output_type": "stream",
     "text": [
      "Done with forming the Training Dataset.\n",
      "Done with forming the  Validation Dataset.\n"
     ]
    }
   ],
   "source": [
    "#### To perform cross validation of various parameters the given training data is\n",
    "#### converted into training and validation dataset with 70-30% Split for two folds.\n",
    "import math\n",
    "length_TrainingSet = len(X)\n",
    "percentage_training = 0.7\n",
    "len_train = math.floor(length_TrainingSet * percentage_training);\n",
    "\n",
    "X_train = X[:len_train]\n",
    "Y_train = Y[:len_train]\n",
    "print(\"Done with forming the Training Dataset.\")\n",
    "\n",
    "X_validation = X[len_train:len(X)]\n",
    "Y_validation = Y[len_train:len(Y)]\n",
    "print(\"Done with forming the  Validation Dataset.\")"
   ]
  },
  {
   "cell_type": "code",
   "execution_count": 4,
   "metadata": {
    "collapsed": false
   },
   "outputs": [
    {
     "name": "stdout",
     "output_type": "stream",
     "text": [
      "Classification is Done.\n"
     ]
    }
   ],
   "source": [
    "### SVC Classification model for the Linear Kernel.\n",
    "clf = svm.SVC( kernel='linear')\n",
    "clf = clf.fit(X_train,Y_train)\n",
    "print(\"Classification is Done.\")\n"
   ]
  },
  {
   "cell_type": "code",
   "execution_count": 5,
   "metadata": {
    "collapsed": false
   },
   "outputs": [
    {
     "name": "stdout",
     "output_type": "stream",
     "text": [
      "Accuracy on the Training Data set:\n",
      "100.0\n"
     ]
    }
   ],
   "source": [
    "from sklearn import metrics\n",
    "output_Predicted = clf.predict(X_train);\n",
    "accuracy_training = metrics.accuracy_score(output_Predicted,Y_train)\n",
    "print(\"Accuracy on the Training Data set:\")\n",
    "print(accuracy_training* 100)"
   ]
  },
  {
   "cell_type": "code",
   "execution_count": 6,
   "metadata": {
    "collapsed": false
   },
   "outputs": [
    {
     "name": "stdout",
     "output_type": "stream",
     "text": [
      "Accuracy on the Validation Data set is:\n",
      "97.7332170881\n"
     ]
    }
   ],
   "source": [
    "output_predicted_validation = clf.predict(X_validation)\n",
    "accuracy_2ndFold = metrics.accuracy_score(output_predicted_validation,Y_validation)\n",
    "print(\"Accuracy on the Validation Data set is:\")\n",
    "print(accuracy_2ndFold * 100)"
   ]
  },
  {
   "cell_type": "code",
   "execution_count": 7,
   "metadata": {
    "collapsed": false
   },
   "outputs": [
    {
     "name": "stdout",
     "output_type": "stream",
     "text": [
      "Done forming the Testing Dataset.\n",
      "Accuracy on the Testing Dataset is : \n",
      "96.1602671119\n"
     ]
    }
   ],
   "source": [
    "### This code is responsible for formation of the Testing dataset.\n",
    "with open('optdigits_test.csv') as testingFile:\n",
    "    reader = csv.reader(testingFile)\n",
    "    \n",
    "    X_test=[]\n",
    "    Y_test=[]\n",
    "    \n",
    "    for row in reader:\n",
    "        X_test.append(row[:64])\n",
    "        Y_test.append(row[64])\n",
    "        \n",
    "\n",
    "print(\"Done forming the Testing Dataset.\")\n",
    "\n",
    "\n",
    "### Prediction of the \n",
    "output_predicted_testing = clf.predict(X_test)\n",
    "accuracy_testing = metrics.accuracy_score(output_predicted_testing, Y_test)\n",
    "print(\"Accuracy on the Testing Dataset is : \")\n",
    "print(accuracy_testing*100)"
   ]
  },
  {
   "cell_type": "code",
   "execution_count": 8,
   "metadata": {
    "collapsed": false
   },
   "outputs": [
    {
     "name": "stdout",
     "output_type": "stream",
     "text": [
      "Classification is Done.\n",
      "Accuracy on the Training Data set:\n",
      "10.7997010463\n",
      "Accuracy on the Validation Data set is:\n",
      "10.2877070619\n",
      "Done forming the Testing Dataset.\n",
      "Accuracy on the Testing Dataset is : \n",
      "10.2949360045\n"
     ]
    }
   ],
   "source": [
    "### SVM Implementation for the Sigmoid Kernel.\n",
    "clf = svm.SVC( kernel='sigmoid')\n",
    "clf = clf.fit(X_train,Y_train)\n",
    "print(\"Classification is Done.\")\n",
    "\n",
    "from sklearn import metrics\n",
    "output_Predicted = clf.predict(X_train);\n",
    "accuracy_training = metrics.accuracy_score(output_Predicted,Y_train)\n",
    "print(\"Accuracy on the Training Data set:\")\n",
    "print(accuracy_training* 100)\n",
    "\n",
    "output_predicted_validation = clf.predict(X_validation)\n",
    "accuracy_2ndFold = metrics.accuracy_score(output_predicted_validation,Y_validation)\n",
    "print(\"Accuracy on the Validation Data set is:\")\n",
    "print(accuracy_2ndFold * 100)\n",
    "\n",
    "\n",
    "with open('optdigits_test.csv') as testingFile:\n",
    "    reader = csv.reader(testingFile)\n",
    "    \n",
    "    X_test=[]\n",
    "    Y_test=[]\n",
    "    \n",
    "    for row in reader:\n",
    "        X_test.append(row[:64])\n",
    "        Y_test.append(row[64])\n",
    "        \n",
    "\n",
    "print(\"Done forming the Testing Dataset.\")\n",
    "\n",
    "\n",
    "### Prediction of the \n",
    "output_predicted_testing = clf.predict(X_test)\n",
    "accuracy_testing = metrics.accuracy_score(output_predicted_testing, Y_test)\n",
    "print(\"Accuracy on the Testing Dataset is : \")\n",
    "print(accuracy_testing*100)"
   ]
  },
  {
   "cell_type": "code",
   "execution_count": 9,
   "metadata": {
    "collapsed": false
   },
   "outputs": [
    {
     "name": "stdout",
     "output_type": "stream",
     "text": [
      "Classification is Done.\n",
      "Accuracy on the Training Data set:\n",
      "100.0\n",
      "Accuracy on the Validation Data set is:\n",
      "98.6922406277\n",
      "Done forming the Testing Dataset.\n",
      "Accuracy on the Testing Dataset is : \n",
      "97.2175848637\n"
     ]
    }
   ],
   "source": [
    "### SVM Classification for the Polynomial kernel function.\n",
    "clf = svm.SVC( kernel='poly')\n",
    "clf = clf.fit(X_train,Y_train)\n",
    "print(\"Classification is Done.\")\n",
    "\n",
    "from sklearn import metrics\n",
    "output_Predicted = clf.predict(X_train);\n",
    "accuracy_training = metrics.accuracy_score(output_Predicted,Y_train)\n",
    "print(\"Accuracy on the Training Data set:\")\n",
    "print(accuracy_training* 100)\n",
    "\n",
    "output_predicted_validation = clf.predict(X_validation)\n",
    "accuracy_2ndFold = metrics.accuracy_score(output_predicted_validation,Y_validation)\n",
    "print(\"Accuracy on the Validation Data set is:\")\n",
    "print(accuracy_2ndFold * 100)\n",
    "\n",
    "\n",
    "with open('optdigits_test.csv') as testingFile:\n",
    "    reader = csv.reader(testingFile)\n",
    "    \n",
    "    X_test=[]\n",
    "    Y_test=[]\n",
    "    \n",
    "    for row in reader:\n",
    "        X_test.append(row[:64])\n",
    "        Y_test.append(row[64])\n",
    "        \n",
    "\n",
    "print(\"Done forming the Testing Dataset.\")\n",
    "\n",
    "\n",
    "### Prediction of the \n",
    "output_predicted_testing = clf.predict(X_test)\n",
    "accuracy_testing = metrics.accuracy_score(output_predicted_testing, Y_test)\n",
    "print(\"Accuracy on the Testing Dataset is : \")\n",
    "print(accuracy_testing*100)"
   ]
  },
  {
   "cell_type": "code",
   "execution_count": 10,
   "metadata": {
    "collapsed": false
   },
   "outputs": [
    {
     "name": "stdout",
     "output_type": "stream",
     "text": [
      "Classification is Done.\n",
      "Accuracy on the Training Data set:\n",
      "100.0\n",
      "Accuracy on the Validation Data set is:\n",
      "57.0183086312\n",
      "Done forming the Testing Dataset.\n",
      "Accuracy on the Testing Dataset is : \n",
      "48.469671675\n"
     ]
    }
   ],
   "source": [
    "### SVM Classification using the RBF Kernel.\n",
    "clf = svm.SVC()\n",
    "clf = clf.fit(X_train,Y_train)\n",
    "print(\"Classification is Done.\")\n",
    "\n",
    "from sklearn import metrics\n",
    "output_Predicted = clf.predict(X_train);\n",
    "accuracy_training = metrics.accuracy_score(output_Predicted,Y_train)\n",
    "print(\"Accuracy on the Training Data set:\")\n",
    "print(accuracy_training* 100)\n",
    "\n",
    "output_predicted_validation = clf.predict(X_validation)\n",
    "accuracy_2ndFold = metrics.accuracy_score(output_predicted_validation,Y_validation)\n",
    "print(\"Accuracy on the Validation Data set is:\")\n",
    "print(accuracy_2ndFold * 100)\n",
    "\n",
    "\n",
    "with open('optdigits_test.csv') as testingFile:\n",
    "    reader = csv.reader(testingFile)\n",
    "    \n",
    "    X_test=[]\n",
    "    Y_test=[]\n",
    "    \n",
    "    for row in reader:\n",
    "        X_test.append(row[:64])\n",
    "        Y_test.append(row[64])\n",
    "        \n",
    "\n",
    "print(\"Done forming the Testing Dataset.\")\n",
    "\n",
    "\n",
    "### Prediction of the \n",
    "output_predicted_testing = clf.predict(X_test)\n",
    "accuracy_testing = metrics.accuracy_score(output_predicted_testing, Y_test)\n",
    "print(\"Accuracy on the Testing Dataset is : \")\n",
    "print(accuracy_testing*100)"
   ]
  },
  {
   "cell_type": "code",
   "execution_count": 50,
   "metadata": {
    "collapsed": false
   },
   "outputs": [
    {
     "name": "stdout",
     "output_type": "stream",
     "text": [
      "[LibSVM]Classification is Done.\n",
      "Accuracy on the Training Data set:\n",
      "99.7757847534\n",
      "Accuracy on the Validation Data set is:\n",
      "98.9537925022\n"
     ]
    }
   ],
   "source": [
    "### Tuning C values. C = 1.2 and gamma = 0.001 gives better results.\n",
    "### For the tuning values please see the Analysis Report.\n",
    "clf = svm.SVC(C=1.2, kernel='rbf', verbose=True,gamma=0.001)\n",
    "clf = clf.fit(X_train,Y_train)\n",
    "print(\"Classification is Done.\")\n",
    "\n",
    "from sklearn import metrics\n",
    "output_Predicted = clf.predict(X_train);\n",
    "accuracy_training = metrics.accuracy_score(output_Predicted,Y_train)\n",
    "print(\"Accuracy on the Training Data set:\")\n",
    "print(accuracy_training* 100)\n",
    "\n",
    "output_predicted_validation = clf.predict(X_validation)\n",
    "accuracy_2ndFold = metrics.accuracy_score(output_predicted_validation,Y_validation)\n",
    "print(\"Accuracy on the Validation Data set is:\")\n",
    "print(accuracy_2ndFold * 100)"
   ]
  },
  {
   "cell_type": "code",
   "execution_count": 51,
   "metadata": {
    "collapsed": false
   },
   "outputs": [
    {
     "name": "stdout",
     "output_type": "stream",
     "text": [
      "Done forming the Testing Dataset.\n",
      "Accuracy on the Testing Dataset is : \n",
      "98.2749026155\n"
     ]
    }
   ],
   "source": [
    "## Testing data set with SVM Kernel = RBF, gamma=0.001, C=1.2\n",
    "with open('optdigits_test.csv') as testingFile:\n",
    "    reader = csv.reader(testingFile)\n",
    "    \n",
    "    X_test=[]\n",
    "    Y_test=[]\n",
    "    \n",
    "    for row in reader:\n",
    "        X_test.append(row[:64])\n",
    "        Y_test.append(row[64])\n",
    "        \n",
    "\n",
    "print(\"Done forming the Testing Dataset.\")\n",
    "\n",
    "\n",
    "### Prediction of the \n",
    "output_predicted_testing = clf.predict(X_test)\n",
    "accuracy_testing = metrics.accuracy_score(output_predicted_testing, Y_test)\n",
    "print(\"Accuracy on the Testing Dataset is : \")\n",
    "print(accuracy_testing*100)"
   ]
  },
  {
   "cell_type": "code",
   "execution_count": null,
   "metadata": {
    "collapsed": true
   },
   "outputs": [],
   "source": []
  }
 ],
 "metadata": {
  "anaconda-cloud": {},
  "kernelspec": {
   "display_name": "Python [default]",
   "language": "python",
   "name": "python3"
  },
  "language_info": {
   "codemirror_mode": {
    "name": "ipython",
    "version": 3
   },
   "file_extension": ".py",
   "mimetype": "text/x-python",
   "name": "python",
   "nbconvert_exporter": "python",
   "pygments_lexer": "ipython3",
   "version": "3.5.2"
  }
 },
 "nbformat": 4,
 "nbformat_minor": 1
}

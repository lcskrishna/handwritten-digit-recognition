{
 "cells": [
  {
   "cell_type": "code",
   "execution_count": 1,
   "metadata": {
    "collapsed": false
   },
   "outputs": [
    {
     "name": "stdout",
     "output_type": "stream",
     "text": [
      "Done with Loading the Training Data.\n"
     ]
    }
   ],
   "source": [
    "#### This file contains the implementation of KNN Classifier for the Digit Recognition Dataset.\n",
    "#### A detailed analysis is given step by step on how to determine the optimal value of K and find the accuracy.\n",
    "#### The following libraries are used for this implementation.\n",
    "#### @Author:Chaitanya Sri Krishna Lolla.\n",
    "import csv\n",
    "import numpy as np\n",
    "from sklearn.neighbors import KNeighborsClassifier\n",
    "from sklearn import metrics\n",
    "\n",
    "## This is responsible for formation of the input data.\n",
    "with open('optdigits_raining.csv') as trainingFile:\n",
    "    reader = csv.reader(trainingFile)\n",
    "    X= []\n",
    "    Y= []\n",
    "    \n",
    "    for row in reader:\n",
    "        X.append(row[:64])\n",
    "        Y.append(row[64])\n",
    "    \n",
    "\n",
    "for i in range(0,len(X)):\n",
    "    lst = X[i]\n",
    "    for j in range(0,len(lst)):\n",
    "        lst[j] = int(lst[j])\n",
    "    X[i] = lst\n",
    "for i in range(0,len(Y)):\n",
    "    Y[i] = int(Y[i])\n",
    "\n",
    "print(\"Done with Loading the Training Data.\")"
   ]
  },
  {
   "cell_type": "code",
   "execution_count": 2,
   "metadata": {
    "collapsed": false
   },
   "outputs": [
    {
     "name": "stdout",
     "output_type": "stream",
     "text": [
      "Done with forming the Fold 1 for Training Dataset.\n",
      "Done with forming the Fold 2 for Validation Dataset.\n"
     ]
    }
   ],
   "source": [
    "### The above training dataset is split into two folds for Hyper parameter K tuning.\n",
    "### The first fold contains 70% of the Training dataset and remaning 30% of the data is used for Cross Validation.\n",
    "### The below code is responsible for forming the Training and Validation datasets into two folds Fold1 and Fold 2.\n",
    "import math\n",
    "length_TrainingSet = len(X)\n",
    "percentage_training = 0.7\n",
    "len_train = math.floor(length_TrainingSet * percentage_training);\n",
    "\n",
    "X_train = X[:len_train]\n",
    "Y_train = Y[:len_train]\n",
    "print(\"Done with forming the Fold 1 for Training Dataset.\")\n",
    "\n",
    "X_validation = X[len_train:len(X)]\n",
    "Y_validation = Y[len_train:len(Y)]\n",
    "print(\"Done with forming the Fold 2 for Validation Dataset.\")"
   ]
  },
  {
   "cell_type": "code",
   "execution_count": 3,
   "metadata": {
    "collapsed": false
   },
   "outputs": [
    {
     "name": "stdout",
     "output_type": "stream",
     "text": [
      "Classification is Done.\n",
      "Accuracy on the Training Data set with k 1:\n",
      "100.0\n",
      "Accuracy on the Validation Data set is with k 1: \n",
      "98.5178727114\n",
      "Classification is Done.\n",
      "Accuracy on the Training Data set with k 2:\n",
      "100.0\n",
      "Accuracy on the Validation Data set is with k 2: \n",
      "98.5178727114\n",
      "Classification is Done.\n",
      "Accuracy on the Training Data set with k 3:\n",
      "100.0\n",
      "Accuracy on the Validation Data set is with k 3: \n",
      "98.256320837\n",
      "Classification is Done.\n",
      "Accuracy on the Training Data set with k 4:\n",
      "100.0\n",
      "Accuracy on the Validation Data set is with k 4: \n",
      "98.4306887533\n",
      "Classification is Done.\n",
      "Accuracy on the Training Data set with k 5:\n",
      "100.0\n",
      "Accuracy on the Validation Data set is with k 5: \n",
      "98.0819529207\n",
      "Classification is Done.\n",
      "Accuracy on the Training Data set with k 6:\n",
      "100.0\n",
      "Accuracy on the Validation Data set is with k 6: \n",
      "98.5178727114\n",
      "Classification is Done.\n",
      "Accuracy on the Training Data set with k 7:\n",
      "100.0\n",
      "Accuracy on the Validation Data set is with k 7: \n",
      "98.1691368788\n",
      "Classification is Done.\n",
      "Accuracy on the Training Data set with k 8:\n",
      "100.0\n",
      "Accuracy on the Validation Data set is with k 8: \n",
      "98.256320837\n",
      "Classification is Done.\n",
      "Accuracy on the Training Data set with k 9:\n",
      "100.0\n",
      "Accuracy on the Validation Data set is with k 9: \n",
      "98.4306887533\n",
      "Classification is Done.\n",
      "Accuracy on the Training Data set with k 10:\n",
      "100.0\n",
      "Accuracy on the Validation Data set is with k 10: \n",
      "98.3435047951\n"
     ]
    }
   ],
   "source": [
    "#### For values K = 1 to 10, the training is being done and tested the accuracy on validation dataset.\n",
    "k= [1,2,3,4,5,6,7,8,9,10]\n",
    "accuracy_validation = []\n",
    "for i in range(0,len(k)):\n",
    "    kValue = k[i]\n",
    "    clf = KNeighborsClassifier(n_neighbors=kValue, weights='distance')\n",
    "    clf = clf.fit(X_train,Y_train)\n",
    "    print(\"Classification is Done.\")\n",
    "\n",
    "    output_Predicted = clf.predict(X_train);\n",
    "    accuracy_training = metrics.accuracy_score(output_Predicted,Y_train)\n",
    "    print(\"Accuracy on the Training Data set with k %d:\" % kValue)\n",
    "    print(accuracy_training* 100)\n",
    "\n",
    "    output_predicted_validation = clf.predict(X_validation)\n",
    "    accuracy_2ndFold = metrics.accuracy_score(output_predicted_validation,Y_validation)\n",
    "    accuracy_validation.append(accuracy_2ndFold)\n",
    "    print(\"Accuracy on the Validation Data set is with k %d: \" % kValue)\n",
    "    print(accuracy_2ndFold * 100)\n"
   ]
  },
  {
   "cell_type": "code",
   "execution_count": 7,
   "metadata": {
    "collapsed": false
   },
   "outputs": [
    {
     "data": {
      "image/png": "[encoded data removed]",
      "text/plain": [
       "<matplotlib.figure.Figure at 0x18ff9cedc18>"
      ]
     },
     "metadata": {},
     "output_type": "display_data"
    }
   ],
   "source": [
    "### From the above to determine the maximum peak of accuracy for better K value a plot is being drawn.\n",
    "%matplotlib inline\n",
    "import matplotlib.pyplot as plt\n",
    "import numpy as np\n",
    "accuracy_validation= np.array(accuracy_validation);\n",
    "plt.plot(accuracy_validation)\n",
    "plt.title(\"Hyper Parameter Value (K) Tuning.\")\n",
    "plt.xlabel(\"K Value\")\n",
    "plt.ylabel(\"Accuracy\")\n",
    "plt.show()"
   ]
  },
  {
   "cell_type": "code",
   "execution_count": 5,
   "metadata": {
    "collapsed": false
   },
   "outputs": [
    {
     "name": "stdout",
     "output_type": "stream",
     "text": [
      "Classification is Done.\n"
     ]
    }
   ],
   "source": [
    "### From above graph we can say K Value for 5 is giving best accuracy on Validation dataset.\n",
    "### Hence we will be training the Model with K=5.\n",
    "clf = KNeighborsClassifier(n_neighbors=5, weights='distance')\n",
    "clf = clf.fit(X_train,Y_train)\n",
    "print(\"Classification is Done.\")"
   ]
  },
  {
   "cell_type": "code",
   "execution_count": 6,
   "metadata": {
    "collapsed": false
   },
   "outputs": [
    {
     "name": "stdout",
     "output_type": "stream",
     "text": [
      "Done forming the Testing Dataset.\n",
      "Accuracy on the Testing Dataset is : \n",
      "97.8297161937\n"
     ]
    }
   ],
   "source": [
    "### This code is responsible for formation of the Testing dataset.\n",
    "with open('optdigits_test.csv') as testingFile:\n",
    "    reader = csv.reader(testingFile)\n",
    "    \n",
    "    X_test=[]\n",
    "    Y_test=[]\n",
    "    \n",
    "    for row in reader:\n",
    "        X_test.append(row[:64])\n",
    "        Y_test.append(row[64])\n",
    "        \n",
    "for i in range(0,len(X_test)):\n",
    "    lst = X_test[i]\n",
    "    for j in range(0,len(lst)):\n",
    "        lst[j] = float(int(lst[j]))\n",
    "    X_test[i] = lst\n",
    "for j in range(0,len(Y_test)):\n",
    "    Y_test[j] = float(int(Y_test[j]))\n",
    "\n",
    "print(\"Done forming the Testing Dataset.\")\n",
    "\n",
    "\n",
    "### Prediction on the Testing Dataset.\n",
    "output_predicted_testing = clf.predict(X_test)\n",
    "accuracy_testing = metrics.accuracy_score(output_predicted_testing, Y_test)\n",
    "print(\"Accuracy on the Testing Dataset is : \")\n",
    "print(accuracy_testing*100)"
   ]
  },
  {
   "cell_type": "code",
   "execution_count": null,
   "metadata": {
    "collapsed": true
   },
   "outputs": [],
   "source": []
  }
 ],
 "metadata": {
  "anaconda-cloud": {},
  "kernelspec": {
   "display_name": "Python [default]",
   "language": "python",
   "name": "python3"
  },
  "language_info": {
   "codemirror_mode": {
    "name": "ipython",
    "version": 3
   },
   "file_extension": ".py",
   "mimetype": "text/x-python",
   "name": "python",
   "nbconvert_exporter": "python",
   "pygments_lexer": "ipython3",
   "version": "3.5.2"
  }
 },
 "nbformat": 4,
 "nbformat_minor": 1
}

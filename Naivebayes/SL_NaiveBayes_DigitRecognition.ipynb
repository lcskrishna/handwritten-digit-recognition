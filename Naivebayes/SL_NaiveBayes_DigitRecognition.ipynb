{
 "cells": [
  {
   "cell_type": "code",
   "execution_count": 3,
   "metadata": {
    "collapsed": false
   },
   "outputs": [],
   "source": [
    "### This file contains the implementation of the Naive Bayes on the Digit Recongition Dataset.\n",
    "### Below are the libraries used for the implementation.\n",
    "### @Author: Chaitanya Sri Krishna Lolla.\n",
    "from sklearn.naive_bayes import GaussianNB\n",
    "import csv\n",
    "import numpy as np"
   ]
  },
  {
   "cell_type": "code",
   "execution_count": 4,
   "metadata": {
    "collapsed": false
   },
   "outputs": [
    {
     "name": "stdout",
     "output_type": "stream",
     "text": [
      "3823\n",
      "3823\n",
      "Done with Loading the Training Data.\n"
     ]
    }
   ],
   "source": [
    "## Loading the training Dataset into X and Y values.\n",
    "X= []\n",
    "Y= []\n",
    "with open('optdigits_raining.csv') as trainingFile:\n",
    "    reader = csv.reader(trainingFile);\n",
    "    \n",
    "    for row in reader:\n",
    "        X.append(row[:64])\n",
    "        Y.append(row[64])\n",
    "\n",
    "print(len(X))\n",
    "print(len(Y))  \n",
    "print(\"Done with Loading the Training Data.\")"
   ]
  },
  {
   "cell_type": "code",
   "execution_count": 7,
   "metadata": {
    "collapsed": false
   },
   "outputs": [
    {
     "name": "stdout",
     "output_type": "stream",
     "text": [
      "Done with forming the Training Data.\n",
      "Done with forming the Validation dataset.\n"
     ]
    }
   ],
   "source": [
    "#### To perform cross validation of various parameters the given training data is\n",
    "#### converted into training and validation dataset with 70-30% Split for two folds.\n",
    "import math\n",
    "length_TrainingSet = len(X)\n",
    "percentage_training = 0.7\n",
    "len_train = math.floor(length_TrainingSet * percentage_training);\n",
    "\n",
    "X_train = X[:len_train]\n",
    "Y_train = Y[:len_train]\n",
    "\n",
    "for i in range(0,len(X_train)):\n",
    "    lst = X_train[i]\n",
    "    for j in range(0,len(lst)):\n",
    "        lst[j] = float(int(lst[j]))\n",
    "    X_train[i] = lst\n",
    "for i in range(0,len(Y_train)):\n",
    "    Y_train[i] = float(int(Y_train[i]))\n",
    "\n",
    "print(\"Done with forming the Training Data.\")\n",
    "\n",
    "X_validation = X[len_train:len(X)]\n",
    "Y_validation = Y[len_train:len(Y)]\n",
    "\n",
    "## This conversion is done to avoid issues while executing the code.\n",
    "for i in range(0,len(X_validation)):\n",
    "    lst = X_validation[i]\n",
    "    for j in range(0,len(lst)):\n",
    "        lst[j] = float(int(lst[j]))\n",
    "    X_validation[i] = lst\n",
    "for i in range(0,len(Y_validation)):\n",
    "    Y_validation[i] = float(int(Y_validation[i]))\n",
    "\n",
    "\n",
    "print(\"Done with forming the Validation dataset.\")\n"
   ]
  },
  {
   "cell_type": "code",
   "execution_count": 8,
   "metadata": {
    "collapsed": false
   },
   "outputs": [
    {
     "name": "stdout",
     "output_type": "stream",
     "text": [
      "Classification is Done using Gaussian NB.\n"
     ]
    }
   ],
   "source": [
    "### Naive Bayes Classification model using Gaussian Naive Bayes Implementation without any priors.\n",
    "clf = GaussianNB()\n",
    "clf = clf.fit(X_train,Y_train)\n",
    "print(\"Classification is Done using Gaussian NB.\")\n"
   ]
  },
  {
   "cell_type": "code",
   "execution_count": 13,
   "metadata": {
    "collapsed": false
   },
   "outputs": [
    {
     "name": "stdout",
     "output_type": "stream",
     "text": [
      "Accuracy on the Training Data set:\n",
      "80.269058296\n",
      "Accuracy on the Validation Data set is:\n",
      "78.6399302528\n"
     ]
    }
   ],
   "source": [
    "from sklearn import metrics\n",
    "output_Predicted = clf.predict(X_train);\n",
    "accuracy_training = metrics.accuracy_score(output_Predicted,Y_train)\n",
    "print(\"Accuracy on the Training Data set:\")\n",
    "print(accuracy_training* 100)\n",
    "\n",
    "output_predicted_validation = clf.predict(X_validation)\n",
    "accuracy_2ndFold = metrics.accuracy_score(output_predicted_validation,Y_validation)\n",
    "print(\"Accuracy on the Validation Data set is:\")\n",
    "print(accuracy_2ndFold * 100)\n"
   ]
  },
  {
   "cell_type": "code",
   "execution_count": 14,
   "metadata": {
    "collapsed": false
   },
   "outputs": [
    {
     "name": "stdout",
     "output_type": "stream",
     "text": [
      "Classification is Done using Multinomial NB.\n",
      "Accuracy on the Training Data set:\n",
      "92.0403587444\n",
      "Accuracy on the Validation Data set is:\n",
      "91.7175239756\n"
     ]
    }
   ],
   "source": [
    "from sklearn.naive_bayes import MultinomialNB\n",
    "clf = MultinomialNB(alpha=1.0)\n",
    "clf = clf.fit(X_train,Y_train)\n",
    "print(\"Classification is Done using Multinomial NB.\")\n",
    "\n",
    "output_Predicted = clf.predict(X_train);\n",
    "accuracy_training = metrics.accuracy_score(output_Predicted,Y_train)\n",
    "print(\"Accuracy on the Training Data set:\")\n",
    "print(accuracy_training* 100)\n",
    "\n",
    "output_predicted_validation = clf.predict(X_validation)\n",
    "accuracy_2ndFold = metrics.accuracy_score(output_predicted_validation,Y_validation)\n",
    "print(\"Accuracy on the Validation Data set is:\")\n",
    "print(accuracy_2ndFold * 100)"
   ]
  },
  {
   "cell_type": "code",
   "execution_count": 15,
   "metadata": {
    "collapsed": false
   },
   "outputs": [
    {
     "name": "stdout",
     "output_type": "stream",
     "text": [
      "Classification is Done using Multinomial NB.\n",
      "Accuracy on the Training Data set:\n",
      "87.7055306428\n",
      "Accuracy on the Validation Data set is:\n",
      "86.3993025283\n"
     ]
    }
   ],
   "source": [
    "from sklearn.naive_bayes import BernoulliNB\n",
    "clf = BernoulliNB(alpha=1.0)\n",
    "clf = clf.fit(X_train,Y_train)\n",
    "print(\"Classification is Done using Multinomial NB.\")\n",
    "\n",
    "output_Predicted = clf.predict(X_train);\n",
    "accuracy_training = metrics.accuracy_score(output_Predicted,Y_train)\n",
    "print(\"Accuracy on the Training Data set:\")\n",
    "print(accuracy_training* 100)\n",
    "\n",
    "output_predicted_validation = clf.predict(X_validation)\n",
    "accuracy_2ndFold = metrics.accuracy_score(output_predicted_validation,Y_validation)\n",
    "print(\"Accuracy on the Validation Data set is:\")\n",
    "print(accuracy_2ndFold * 100)"
   ]
  },
  {
   "cell_type": "code",
   "execution_count": 16,
   "metadata": {
    "collapsed": false
   },
   "outputs": [
    {
     "name": "stdout",
     "output_type": "stream",
     "text": [
      "Classification is Done using Multinomial NB.\n"
     ]
    }
   ],
   "source": [
    "clf = MultinomialNB(alpha=1.0)\n",
    "clf = clf.fit(X_train,Y_train)\n",
    "print(\"Classification is Done using Multinomial NB.\")"
   ]
  },
  {
   "cell_type": "code",
   "execution_count": 17,
   "metadata": {
    "collapsed": false
   },
   "outputs": [
    {
     "name": "stdout",
     "output_type": "stream",
     "text": [
      "Done forming the Testing Dataset.\n",
      "Accuracy on the Testing Dataset is : \n",
      "89.204229271\n"
     ]
    }
   ],
   "source": [
    "### This code is responsible for formation of the Testing dataset.\n",
    "with open('optdigits_test.csv') as testingFile:\n",
    "    reader = csv.reader(testingFile)\n",
    "    \n",
    "    X_test=[]\n",
    "    Y_test=[]\n",
    "    \n",
    "    for row in reader:\n",
    "        X_test.append(row[:64])\n",
    "        Y_test.append(row[64])\n",
    "        \n",
    "\n",
    "## This step is used to avoid any type casting errors that have been occured.\n",
    "for i in range(0,len(X_test)):\n",
    "    lst = X_test[i]\n",
    "    for j in range(0,len(lst)):\n",
    "        lst[j] = float(int(lst[j]))\n",
    "    X_test[i] = lst\n",
    "for j in range(0,len(Y_test)):\n",
    "    Y_test[j] = float(int(Y_test[j]))\n",
    "\n",
    "print(\"Done forming the Testing Dataset.\")\n",
    "\n",
    "\n",
    "### Prediction on the Testing Dataset.\n",
    "output_predicted_testing = clf.predict(X_test)\n",
    "accuracy_testing = metrics.accuracy_score(output_predicted_testing, Y_test)\n",
    "print(\"Accuracy on the Testing Dataset is : \")\n",
    "print(accuracy_testing*100)"
   ]
  },
  {
   "cell_type": "code",
   "execution_count": null,
   "metadata": {
    "collapsed": true
   },
   "outputs": [],
   "source": []
  }
 ],
 "metadata": {
  "anaconda-cloud": {},
  "kernelspec": {
   "display_name": "Python [default]",
   "language": "python",
   "name": "python3"
  },
  "language_info": {
   "codemirror_mode": {
    "name": "ipython",
    "version": 3
   },
   "file_extension": ".py",
   "mimetype": "text/x-python",
   "name": "python",
   "nbconvert_exporter": "python",
   "pygments_lexer": "ipython3",
   "version": "3.5.2"
  }
 },
 "nbformat": 4,
 "nbformat_minor": 1
}
